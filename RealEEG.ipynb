{
 "cells": [
  {
   "cell_type": "code",
   "execution_count": 1,
   "metadata": {},
   "outputs": [
    {
     "name": "stdout",
     "output_type": "stream",
     "text": [
      "Requirement already satisfied: segmentation-models in c:\\users\\shayna\\anaconda3\\envs\\venvgpu\\lib\\site-packages (0.2.0)\n",
      "Requirement already satisfied: keras>=2.2.0 in c:\\users\\shayna\\anaconda3\\envs\\venvgpu\\lib\\site-packages (from segmentation-models) (2.2.4)\n",
      "Requirement already satisfied: scikit-image in c:\\users\\shayna\\anaconda3\\envs\\venvgpu\\lib\\site-packages (from segmentation-models) (0.15.0)\n",
      "Requirement already satisfied: keras-applications>=1.0.7 in c:\\users\\shayna\\anaconda3\\envs\\venvgpu\\lib\\site-packages (from segmentation-models) (1.0.7)\n",
      "Requirement already satisfied: image-classifiers==0.2.0 in c:\\users\\shayna\\anaconda3\\envs\\venvgpu\\lib\\site-packages (from segmentation-models) (0.2.0)\n",
      "Requirement already satisfied: scipy>=0.14 in c:\\users\\shayna\\anaconda3\\envs\\venvgpu\\lib\\site-packages (from keras>=2.2.0->segmentation-models) (1.2.1)\n",
      "Requirement already satisfied: numpy>=1.9.1 in c:\\users\\shayna\\anaconda3\\envs\\venvgpu\\lib\\site-packages (from keras>=2.2.0->segmentation-models) (1.16.3)\n",
      "Requirement already satisfied: pyyaml in c:\\users\\shayna\\anaconda3\\envs\\venvgpu\\lib\\site-packages (from keras>=2.2.0->segmentation-models) (5.1)\n",
      "Requirement already satisfied: h5py in c:\\users\\shayna\\anaconda3\\envs\\venvgpu\\lib\\site-packages (from keras>=2.2.0->segmentation-models) (2.9.0)\n",
      "Requirement already satisfied: keras-preprocessing>=1.0.5 in c:\\users\\shayna\\anaconda3\\envs\\venvgpu\\lib\\site-packages (from keras>=2.2.0->segmentation-models) (1.0.9)\n",
      "Requirement already satisfied: six>=1.9.0 in c:\\users\\shayna\\anaconda3\\envs\\venvgpu\\lib\\site-packages (from keras>=2.2.0->segmentation-models) (1.12.0)\n",
      "Requirement already satisfied: imageio>=2.0.1 in c:\\users\\shayna\\anaconda3\\envs\\venvgpu\\lib\\site-packages (from scikit-image->segmentation-models) (2.5.0)\n",
      "Requirement already satisfied: PyWavelets>=0.4.0 in c:\\users\\shayna\\anaconda3\\envs\\venvgpu\\lib\\site-packages (from scikit-image->segmentation-models) (1.0.3)\n",
      "Requirement already satisfied: pillow>=4.3.0 in c:\\users\\shayna\\anaconda3\\envs\\venvgpu\\lib\\site-packages (from scikit-image->segmentation-models) (6.0.0)\n",
      "Requirement already satisfied: networkx>=2.0 in c:\\users\\shayna\\anaconda3\\envs\\venvgpu\\lib\\site-packages (from scikit-image->segmentation-models) (2.3)\n",
      "Requirement already satisfied: decorator>=4.3.0 in c:\\users\\shayna\\anaconda3\\envs\\venvgpu\\lib\\site-packages (from networkx>=2.0->scikit-image->segmentation-models) (4.4.0)\n"
     ]
    },
    {
     "name": "stderr",
     "output_type": "stream",
     "text": [
      "Using TensorFlow backend.\n",
      "C:\\Users\\shayna\\Anaconda3\\envs\\venvgpu\\lib\\site-packages\\classification_models\\resnext\\__init__.py:4: UserWarning: Current ResNext models are deprecated, use keras.applications ResNeXt models\n",
      "  warnings.warn('Current ResNext models are deprecated, '\n"
     ]
    }
   ],
   "source": [
    "from __future__ import absolute_import, division, print_function, unicode_literals\n",
    "\n",
    "# !pip install -q tensorflow==2.0.0-alpha0\n",
    "# import tensorflow as tf\n",
    "!pip install segmentation-models\n",
    "\n",
    "import numpy as np\n",
    "import matplotlib.pyplot as plt\n",
    "import os\n",
    "from PIL import Image\n",
    "import keras\n",
    "from keras.models import Model\n",
    "from keras.layers import Conv2D, MaxPooling2D, Input, Conv2DTranspose, Concatenate, BatchNormalization, UpSampling2D\n",
    "from keras.layers import  Dropout, Activation\n",
    "from keras.optimizers import Adam, SGD\n",
    "from keras.layers.advanced_activations import LeakyReLU\n",
    "from keras.callbacks import ModelCheckpoint, ReduceLROnPlateau, EarlyStopping\n",
    "from keras import backend as K\n",
    "from keras.utils import plot_model\n",
    "import tensorflow as tf\n",
    "import glob\n",
    "import random\n",
    "from random import shuffle\n",
    "import scipy.io as spio\n",
    "from segmentation_models import Unet\n",
    "from segmentation_models.backbones import get_preprocessing\n",
    "from segmentation_models.losses import bce_jaccard_loss\n",
    "from segmentation_models.metrics import iou_score\n",
    "from keras.models import load_model\n",
    "import h5py\n",
    "BACKBONE = 'resnet34'\n"
   ]
  },
  {
   "cell_type": "code",
   "execution_count": 2,
   "metadata": {},
   "outputs": [
    {
     "name": "stdout",
     "output_type": "stream",
     "text": [
      "WARNING:tensorflow:From C:\\Users\\shayna\\Anaconda3\\envs\\venvgpu\\lib\\site-packages\\tensorflow\\python\\framework\\op_def_library.py:263: colocate_with (from tensorflow.python.framework.ops) is deprecated and will be removed in a future version.\n",
      "Instructions for updating:\n",
      "Colocations handled automatically by placer.\n",
      "WARNING:tensorflow:From C:\\Users\\shayna\\Anaconda3\\envs\\venvgpu\\lib\\site-packages\\tensorflow\\python\\ops\\math_ops.py:3066: to_int32 (from tensorflow.python.ops.math_ops) is deprecated and will be removed in a future version.\n",
      "Instructions for updating:\n",
      "Use tf.cast instead.\n"
     ]
    }
   ],
   "source": [
    "models=load_model('model_train.h5')"
   ]
  },
  {
   "cell_type": "code",
   "execution_count": 64,
   "metadata": {},
   "outputs": [
    {
     "name": "stdout",
     "output_type": "stream",
     "text": [
      "(2, 128, 128)\n"
     ]
    }
   ],
   "source": [
    "mat = spio.loadmat('adtfd_real_128.mat', squeeze_me=True)\n",
    "\n",
    "df_test=mat['yy']\n",
    "print(df_test[:,:,:,1].shape)\n"
   ]
  },
  {
   "cell_type": "code",
   "execution_count": 65,
   "metadata": {},
   "outputs": [],
   "source": [
    "df2=df_test[:,:,:,:]\n",
    "#df2=np.expand_dims(df2,axis=4)\n",
    "yy=np.zeros((2,128,128))\n",
    "yy=models.predict(df2)"
   ]
  },
  {
   "cell_type": "code",
   "execution_count": 66,
   "metadata": {},
   "outputs": [
    {
     "data": {
      "image/png": "[encoded data removed]",
      "text/plain": [
       "<Figure size 432x288 with 2 Axes>"
      ]
     },
     "metadata": {
      "needs_background": "light"
     },
     "output_type": "display_data"
    }
   ],
   "source": [
    "from mpl_toolkits.axes_grid1 import make_axes_locatable\n",
    "yy=yy.clip([0, abs(yy.max())])\n",
    "#plt.imshow(df[33,:,:,0])\n",
    "fig2=plt.figure()\n",
    "plt.rc('xtick', labelsize=20) \n",
    "plt.rc('ytick', labelsize=20) \n",
    "plt.title(\"(a)\",fontsize=24)\n",
    "plt.xlabel('Samples',fontsize=20)\n",
    "plt.ylabel('Frequency / Hz',fontsize=20)\n",
    "ax=plt.gca()\n",
    "im=ax.imshow((yy[0,:,:,0]),origin='lower', extent=[0, 128, 0, 64])\n",
    "divider = make_axes_locatable(ax)\n",
    "cax = divider.append_axes(\"right\", size=\"5%\", pad=0.05)\n",
    "plt.colorbar(im, cax=cax)\n",
    "plt.savefig('Multipleview.png',dpi=800,bbox_inches='tight')"
   ]
  },
  {
   "cell_type": "code",
   "execution_count": 67,
   "metadata": {},
   "outputs": [],
   "source": [
    "spio.savemat('resultRealMultiple.mat',{'yy':yy})"
   ]
  },
  {
   "cell_type": "code",
   "execution_count": 7,
   "metadata": {},
   "outputs": [],
   "source": [
    "model=load_model('model_train_single.h5')"
   ]
  },
  {
   "cell_type": "code",
   "execution_count": 60,
   "metadata": {},
   "outputs": [
    {
     "name": "stdout",
     "output_type": "stream",
     "text": [
      "(2, 128, 128)\n"
     ]
    }
   ],
   "source": [
    "mat = spio.loadmat('adtfd_real_128.mat', squeeze_me=True)\n",
    "\n",
    "df_test=mat['zz']\n",
    "print(df_test[:,:,:,1].shape)\n"
   ]
  },
  {
   "cell_type": "code",
   "execution_count": 68,
   "metadata": {},
   "outputs": [],
   "source": [
    "df2=df_test[:,:,:,:]\n",
    "#df2=np.expand_dims(df2,axis=4)\n",
    "yy=np.zeros((2,128,128))\n",
    "yy=model.predict(df2)"
   ]
  },
  {
   "cell_type": "code",
   "execution_count": 69,
   "metadata": {},
   "outputs": [
    {
     "data": {
      "image/png": "[encoded data removed]",
      "text/plain": [
       "<Figure size 432x288 with 2 Axes>"
      ]
     },
     "metadata": {
      "needs_background": "light"
     },
     "output_type": "display_data"
    }
   ],
   "source": [
    "from mpl_toolkits.axes_grid1 import make_axes_locatable\n",
    "yy=yy.clip([0, abs(yy.max())])\n",
    "#plt.imshow(df[33,:,:,0])\n",
    "fig2=plt.figure()\n",
    "plt.rc('xtick', labelsize=20) \n",
    "plt.rc('ytick', labelsize=20) \n",
    "plt.title(\"(b)\",fontsize=24)\n",
    "plt.xlabel('Samples',fontsize=20)\n",
    "plt.ylabel('Frequency / Hz',fontsize=20)\n",
    "ax=plt.gca()\n",
    "im=ax.imshow((yy[0,:,:,0]),origin='lower', extent=[0, 128, 0, 64])\n",
    "divider = make_axes_locatable(ax)\n",
    "cax = divider.append_axes(\"right\", size=\"5%\", pad=0.05)\n",
    "plt.colorbar(im, cax=cax)\n",
    "plt.savefig('SingleVieqw.png',dpi=800,bbox_inches='tight')"
   ]
  },
  {
   "cell_type": "code",
   "execution_count": 70,
   "metadata": {},
   "outputs": [],
   "source": [
    "spio.savemat('resultRealSingle.mat',{'yy':yy})"
   ]
  },
  {
   "cell_type": "code",
   "execution_count": null,
   "metadata": {},
   "outputs": [],
   "source": []
  },
  {
   "cell_type": "code",
   "execution_count": null,
   "metadata": {},
   "outputs": [],
   "source": []
  }
 ],
 "metadata": {
  "kernelspec": {
   "display_name": "Python 3",
   "language": "python",
   "name": "python3"
  },
  "language_info": {
   "codemirror_mode": {
    "name": "ipython",
    "version": 3
   },
   "file_extension": ".py",
   "mimetype": "text/x-python",
   "name": "python",
   "nbconvert_exporter": "python",
   "pygments_lexer": "ipython3",
   "version": "3.6.8"
  }
 },
 "nbformat": 4,
 "nbformat_minor": 2
}
