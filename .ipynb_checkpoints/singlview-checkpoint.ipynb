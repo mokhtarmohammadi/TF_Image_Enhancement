{
 "cells": [
  {
   "cell_type": "code",
   "execution_count": 2,
   "metadata": {
    "colab": {
     "base_uri": "https://localhost:8080/",
     "height": 625
    },
    "colab_type": "code",
    "executionInfo": {
     "elapsed": 9132,
     "status": "ok",
     "timestamp": 1559566214479,
     "user": {
      "displayName": "mokhtar mohammadi",
      "photoUrl": "https://lh4.googleusercontent.com/-WipqOvCRfWQ/AAAAAAAAAAI/AAAAAAAAACw/KPzLoMdb6qk/s64/photo.jpg",
      "userId": "15719550230998599035"
     },
     "user_tz": -270
    },
    "id": "d9s-9JxurNL3",
    "outputId": "5de25bae-6999-4879-e34c-c8af4ac7b0d3"
   },
   "outputs": [
    {
     "name": "stdout",
     "output_type": "stream",
     "text": [
      "Requirement already satisfied: segmentation-models in c:\\users\\shayna\\anaconda3\\envs\\venv\\lib\\site-packages (0.2.0)\n",
      "Requirement already satisfied: keras-applications>=1.0.7 in c:\\users\\shayna\\anaconda3\\envs\\venv\\lib\\site-packages (from segmentation-models) (1.0.7)\n",
      "Requirement already satisfied: scikit-image in c:\\users\\shayna\\anaconda3\\envs\\venv\\lib\\site-packages (from segmentation-models) (0.15.0)\n",
      "Requirement already satisfied: keras>=2.2.0 in c:\\users\\shayna\\anaconda3\\envs\\venv\\lib\\site-packages (from segmentation-models) (2.2.4)\n",
      "Requirement already satisfied: image-classifiers==0.2.0 in c:\\users\\shayna\\anaconda3\\envs\\venv\\lib\\site-packages (from segmentation-models) (0.2.0)\n",
      "Requirement already satisfied: numpy>=1.9.1 in c:\\users\\shayna\\anaconda3\\envs\\venv\\lib\\site-packages (from keras-applications>=1.0.7->segmentation-models) (1.16.1)\n",
      "Requirement already satisfied: h5py in c:\\users\\shayna\\anaconda3\\envs\\venv\\lib\\site-packages (from keras-applications>=1.0.7->segmentation-models) (2.9.0)\n",
      "Requirement already satisfied: networkx>=2.0 in c:\\users\\shayna\\anaconda3\\envs\\venv\\lib\\site-packages (from scikit-image->segmentation-models) (2.3)\n",
      "Requirement already satisfied: imageio>=2.0.1 in c:\\users\\shayna\\anaconda3\\envs\\venv\\lib\\site-packages (from scikit-image->segmentation-models) (2.5.0)\n",
      "Requirement already satisfied: PyWavelets>=0.4.0 in c:\\users\\shayna\\anaconda3\\envs\\venv\\lib\\site-packages (from scikit-image->segmentation-models) (1.0.3)\n",
      "Requirement already satisfied: pillow>=4.3.0 in c:\\users\\shayna\\anaconda3\\envs\\venv\\lib\\site-packages (from scikit-image->segmentation-models) (6.2.1)\n",
      "Requirement already satisfied: scipy>=0.14 in c:\\users\\shayna\\anaconda3\\envs\\venv\\lib\\site-packages (from keras>=2.2.0->segmentation-models) (1.2.1)\n",
      "Requirement already satisfied: six>=1.9.0 in c:\\users\\shayna\\anaconda3\\envs\\venv\\lib\\site-packages (from keras>=2.2.0->segmentation-models) (1.12.0)\n",
      "Requirement already satisfied: pyyaml in c:\\users\\shayna\\anaconda3\\envs\\venv\\lib\\site-packages (from keras>=2.2.0->segmentation-models) (3.13)\n",
      "Requirement already satisfied: keras_preprocessing>=1.0.5 in c:\\users\\shayna\\anaconda3\\envs\\venv\\lib\\site-packages (from keras>=2.2.0->segmentation-models) (1.0.9)\n",
      "Requirement already satisfied: decorator>=4.3.0 in c:\\users\\shayna\\anaconda3\\envs\\venv\\lib\\site-packages (from networkx>=2.0->scikit-image->segmentation-models) (4.3.2)\n"
     ]
    },
    {
     "name": "stderr",
     "output_type": "stream",
     "text": [
      "C:\\Users\\shayna\\Anaconda3\\envs\\venv\\lib\\site-packages\\classification_models\\resnext\\__init__.py:4: UserWarning: Current ResNext models are deprecated, use keras.applications ResNeXt models\n",
      "  warnings.warn('Current ResNext models are deprecated, '\n"
     ]
    }
   ],
   "source": [
    "from __future__ import absolute_import, division, print_function, unicode_literals\n",
    "\n",
    "# !pip install -q tensorflow==2.0.0-alpha0\n",
    "# import tensorflow as tf\n",
    "!pip install segmentation-models\n",
    "\n",
    "import numpy as np\n",
    "import matplotlib.pyplot as plt\n",
    "import os\n",
    "from PIL import Image\n",
    "import keras\n",
    "from keras.models import Model\n",
    "from keras.layers import Conv2D, MaxPooling2D, Input, Conv2DTranspose, Concatenate, BatchNormalization, UpSampling2D\n",
    "from keras.layers import  Dropout, Activation\n",
    "from keras.optimizers import Adam, SGD\n",
    "from keras.layers.advanced_activations import LeakyReLU\n",
    "from keras.callbacks import ModelCheckpoint, ReduceLROnPlateau, EarlyStopping\n",
    "from keras import backend as K\n",
    "from keras.utils import plot_model\n",
    "import tensorflow as tf\n",
    "import glob\n",
    "import random\n",
    "#import cv2\n",
    "from random import shuffle\n",
    "import scipy.io as spio\n",
    "from segmentation_models import Unet\n",
    "from segmentation_models.backbones import get_preprocessing\n",
    "from segmentation_models.losses import bce_jaccard_loss\n",
    "from segmentation_models.metrics import iou_score\n",
    "from keras.models import load_model\n",
    "import h5py\n",
    "BACKBONE = 'resnet34'\n"
   ]
  },
  {
   "cell_type": "code",
   "execution_count": 0,
   "metadata": {
    "colab": {
     "base_uri": "https://localhost:8080/",
     "height": 189
    },
    "colab_type": "code",
    "executionInfo": {
     "elapsed": 57879,
     "status": "ok",
     "timestamp": 1559566370235,
     "user": {
      "displayName": "mokhtar mohammadi",
      "photoUrl": "https://lh4.googleusercontent.com/-WipqOvCRfWQ/AAAAAAAAAAI/AAAAAAAAACw/KPzLoMdb6qk/s64/photo.jpg",
      "userId": "15719550230998599035"
     },
     "user_tz": -270
    },
    "id": "YalszZ0qrNMK",
    "outputId": "107489a3-bc7e-4e42-e4a8-40b35f547cf4"
   },
   "outputs": [
    {
     "name": "stdout",
     "output_type": "stream",
     "text": [
      "Go to this URL in a browser: https://accounts.google.com/o/oauth2/auth?client_id=947318989803-6bn6qk8qdgf4n4g3pfee6491hc0brc4i.apps.googleusercontent.com&redirect_uri=urn%3Aietf%3Awg%3Aoauth%3A2.0%3Aoob&scope=email%20https%3A%2F%2Fwww.googleapis.com%2Fauth%2Fdocs.test%20https%3A%2F%2Fwww.googleapis.com%2Fauth%2Fdrive%20https%3A%2F%2Fwww.googleapis.com%2Fauth%2Fdrive.photos.readonly%20https%3A%2F%2Fwww.googleapis.com%2Fauth%2Fpeopleapi.readonly&response_type=code\n",
      "\n",
      "Enter your authorization code:\n",
      "··········\n",
      "Mounted at /content/gdrive\n"
     ]
    }
   ],
   "source": [
    "#from google.colab import drive\n",
    "#drive.mount('/content/gdrive')\n",
    "\n",
    "mat = spio.loadmat('gdrive/My Drive/Set_128.mat', squeeze_me=True)\n",
    "mat1 = spio.loadmat('gdrive/My Drive/Set_large_adtfd.mat', squeeze_me=True)"
   ]
  },
  {
   "cell_type": "code",
   "execution_count": 8,
   "metadata": {
    "colab": {
     "base_uri": "https://localhost:8080/",
     "height": 374
    },
    "colab_type": "code",
    "executionInfo": {
     "elapsed": 49721,
     "status": "ok",
     "timestamp": 1559566456167,
     "user": {
      "displayName": "mokhtar mohammadi",
      "photoUrl": "https://lh4.googleusercontent.com/-WipqOvCRfWQ/AAAAAAAAAAI/AAAAAAAAACw/KPzLoMdb6qk/s64/photo.jpg",
      "userId": "15719550230998599035"
     },
     "user_tz": -270
    },
    "id": "jM4648XTrNMN",
    "outputId": "63a5d8fc-c90c-45d5-c80c-c582a3511a57"
   },
   "outputs": [
    {
     "ename": "KeyError",
     "evalue": "'Input'",
     "output_type": "error",
     "traceback": [
      "\u001b[1;31m---------------------------------------------------------------------------\u001b[0m",
      "\u001b[1;31mKeyError\u001b[0m                                  Traceback (most recent call last)",
      "\u001b[1;32m<ipython-input-8-69dc08c6db70>\u001b[0m in \u001b[0;36m<module>\u001b[1;34m\u001b[0m\n\u001b[1;32m----> 1\u001b[1;33m \u001b[0mdf\u001b[0m\u001b[1;33m=\u001b[0m\u001b[0mmat\u001b[0m\u001b[1;33m[\u001b[0m\u001b[1;34m'Input'\u001b[0m\u001b[1;33m]\u001b[0m\u001b[1;33m\u001b[0m\u001b[1;33m\u001b[0m\u001b[0m\n\u001b[0m\u001b[0;32m      2\u001b[0m \u001b[0my\u001b[0m\u001b[1;33m=\u001b[0m\u001b[0mmat\u001b[0m\u001b[1;33m[\u001b[0m\u001b[1;34m'Output'\u001b[0m\u001b[1;33m]\u001b[0m\u001b[1;33m\u001b[0m\u001b[1;33m\u001b[0m\u001b[0m\n\u001b[0;32m      3\u001b[0m \u001b[0mdf_l\u001b[0m\u001b[1;33m=\u001b[0m\u001b[0mmat1\u001b[0m\u001b[1;33m[\u001b[0m\u001b[1;34m'Input'\u001b[0m\u001b[1;33m]\u001b[0m\u001b[1;33m\u001b[0m\u001b[1;33m\u001b[0m\u001b[0m\n\u001b[0;32m      4\u001b[0m \u001b[0my_l\u001b[0m\u001b[1;33m=\u001b[0m\u001b[0mmat1\u001b[0m\u001b[1;33m[\u001b[0m\u001b[1;34m'Output'\u001b[0m\u001b[1;33m]\u001b[0m\u001b[1;33m\u001b[0m\u001b[1;33m\u001b[0m\u001b[0m\n\u001b[0;32m      5\u001b[0m \u001b[1;33m\u001b[0m\u001b[0m\n",
      "\u001b[1;31mKeyError\u001b[0m: 'Input'"
     ]
    }
   ],
   "source": [
    "df=mat['Input']\n",
    "y=mat['Output']\n",
    "df_l=mat1['Input']\n",
    "y_l=mat1['Output']\n",
    "\n",
    "yy=np.zeros((93,128,128))\n",
    "dff=np.zeros((93,128,128,3))\n",
    "y_temp=np.zeros((5000,128,128))\n",
    "for n in range(93):\n",
    "  for i in range(128):\n",
    "    for j in range(128):\n",
    "      yy[n,i,j]=y[i,j,n]\n",
    "      dff[n,i,j,:]=df[i,j,:,n]\n",
    "y=yy\n",
    "df=dff\n",
    "\n",
    "for n in range(5000):\n",
    "  for i in range(128):\n",
    "    for j in range(128):\n",
    "      y_temp[n,i,j]=y_l[i,j,n]\n",
    "y_l=y_temp\n",
    "\n",
    "print(y.shape,df.shape)\n",
    "print(y_l.shape,df_l.shape)\n",
    "\n",
    "df=np.concatenate((df, df_l), axis=0)\n",
    "y=np.concatenate((y, y_l), axis=0)\n",
    "\n",
    "y=np.expand_dims(y,axis=4)\n",
    "print(y.shape,df.shape)\n",
    "import matplotlib.pyplot as plt\n",
    "plt.imshow(df[1,:,:,1])\n"
   ]
  },
  {
   "cell_type": "code",
   "execution_count": 0,
   "metadata": {
    "colab": {
     "base_uri": "https://localhost:8080/",
     "height": 286
    },
    "colab_type": "code",
    "executionInfo": {
     "elapsed": 1095,
     "status": "ok",
     "timestamp": 1559378834803,
     "user": {
      "displayName": "mokhtar mohammadi",
      "photoUrl": "https://lh4.googleusercontent.com/-WipqOvCRfWQ/AAAAAAAAAAI/AAAAAAAAACw/KPzLoMdb6qk/s64/photo.jpg",
      "userId": "15719550230998599035"
     },
     "user_tz": -270
    },
    "id": "fs1AZ9q-rNMQ",
    "outputId": "19eed3b4-ae42-4333-bf48-0ea65dd8833c"
   },
   "outputs": [
    {
     "data": {
      "text/plain": [
       "<matplotlib.image.AxesImage at 0x7f46532b6be0>"
      ]
     },
     "execution_count": 4,
     "metadata": {
      "tags": []
     },
     "output_type": "execute_result"
    },
    {
     "data": {
      "image/png": "[encoded data removed]",
      "text/plain": [
       "<Figure size 432x288 with 1 Axes>"
      ]
     },
     "metadata": {
      "tags": []
     },
     "output_type": "display_data"
    }
   ],
   "source": [
    "plt.imshow(df[1,:,:,2])"
   ]
  },
  {
   "cell_type": "code",
   "execution_count": 0,
   "metadata": {
    "colab": {},
    "colab_type": "code",
    "id": "ZR0kSfk1HmHX"
   },
   "outputs": [],
   "source": [
    "def mean_iou(y_true, y_pred):\n",
    "    yt0 = y_true[:,:,:,0]\n",
    "    yp0 = K.cast(y_pred[:,:,:,0] > 0.5, 'float32')\n",
    "    inter = tf.count_nonzero(tf.logical_and(tf.equal(yt0, 1), tf.equal(yp0, 1)))\n",
    "    union = tf.count_nonzero(tf.add(yt0, yp0))\n",
    "    iou = tf.where(tf.equal(union, 0), 1., tf.cast(inter/union, 'float32'))\n",
    "    return iou"
   ]
  },
  {
   "cell_type": "code",
   "execution_count": 0,
   "metadata": {
    "colab": {},
    "colab_type": "code",
    "id": "jPJ4O59eBByr"
   },
   "outputs": [],
   "source": [
    "\n",
    "# def unet(sz = (128, 128, 3)):\n",
    "#   x = Input(sz)\n",
    "#   inputs = x\n",
    "  \n",
    "#   #down sampling \n",
    "#   f = 8\n",
    "#   layers = []\n",
    "  \n",
    "#   for i in range(0, 6):\n",
    "#     x = Conv2D(f, 3, activation='relu', padding='same') (x)\n",
    "#     x = Conv2D(f, 3, activation='relu', padding='same') (x)\n",
    "#     layers.append(x)\n",
    "#     x = MaxPooling2D() (x)\n",
    "#     f = f*2\n",
    "#   ff2 = 64 \n",
    "  \n",
    "#   #bottleneck \n",
    "#   j = len(layers) - 1\n",
    "#   x = Conv2D(f, 3, activation='relu', padding='same') (x)\n",
    "#   x = Conv2D(f, 3, activation='relu', padding='same') (x)\n",
    "#   x = Conv2DTranspose(ff2, 2, strides=(2, 2), padding='same') (x)\n",
    "#   x = Concatenate(axis=3)([x, layers[j]])\n",
    "#   j = j -1 \n",
    "  \n",
    "#   #upsampling \n",
    "#   for i in range(0, 5):\n",
    "#     ff2 = ff2//2\n",
    "#     f = f // 2 \n",
    "#     x = Conv2D(f, 3, activation='relu', padding='same') (x)\n",
    "#     x = Conv2D(f, 3, activation='relu', padding='same') (x)\n",
    "#     x = Conv2DTranspose(ff2, 2, strides=(2, 2), padding='same') (x)\n",
    "#     x = Concatenate(axis=3)([x, layers[j]])\n",
    "#     j = j -1 \n",
    "    \n",
    "  \n",
    "#   #classification \n",
    "#   x = Conv2D(f, 3, activation='relu', padding='same') (x)\n",
    "#   x = Conv2D(f, 3, activation='relu', padding='same') (x)\n",
    "#   outputs = Conv2D(1, (2,2), activation='relu') (x)\n",
    "  \n",
    "#   #model creation \n",
    "#   model = Model(inputs=[inputs], outputs=[outputs])\n",
    "#   model.compile(optimizer = 'rmsprop', loss = 'binary_crossentropy', metrics = [mean_iou])\n",
    "  \n",
    "#   return model"
   ]
  },
  {
   "cell_type": "code",
   "execution_count": 0,
   "metadata": {
    "colab": {},
    "colab_type": "code",
    "id": "h9UXGZjZrNMV"
   },
   "outputs": [],
   "source": [
    "models = Unet(BACKBONE, input_shape=(128, 128, 3), encoder_weights='imagenet')\n",
    "# models = unet()"
   ]
  },
  {
   "cell_type": "code",
   "execution_count": 0,
   "metadata": {
    "colab": {
     "base_uri": "https://localhost:8080/",
     "height": 3539
    },
    "colab_type": "code",
    "executionInfo": {
     "elapsed": 2191567,
     "status": "ok",
     "timestamp": 1559434978842,
     "user": {
      "displayName": "mokhtar mohammadi",
      "photoUrl": "https://lh4.googleusercontent.com/-WipqOvCRfWQ/AAAAAAAAAAI/AAAAAAAAACw/KPzLoMdb6qk/s64/photo.jpg",
      "userId": "15719550230998599035"
     },
     "user_tz": -270
    },
    "id": "bPTzuLxvrNMX",
    "outputId": "c146ad3f-762d-40f9-b8ce-514dc166be32"
   },
   "outputs": [
    {
     "name": "stderr",
     "output_type": "stream",
     "text": [
      "/usr/local/lib/python3.6/dist-packages/ipykernel_launcher.py:2: DeprecationWarning: Both axis > a.ndim and axis < -a.ndim - 1 are deprecated and will raise an AxisError in the future.\n",
      "  \n"
     ]
    },
    {
     "name": "stdout",
     "output_type": "stream",
     "text": [
      "WARNING:tensorflow:From /usr/local/lib/python3.6/dist-packages/tensorflow/python/ops/math_ops.py:3066: to_int32 (from tensorflow.python.ops.math_ops) is deprecated and will be removed in a future version.\n",
      "Instructions for updating:\n",
      "Use tf.cast instead.\n",
      "\n",
      "Epoch 00001: val_loss improved from inf to 0.01445, saving model to gdrive/My Drive/model_train_single.h5\n",
      "\n",
      "Epoch 00002: val_loss improved from 0.01445 to 0.00840, saving model to gdrive/My Drive/model_train_single.h5\n",
      "\n",
      "Epoch 00003: val_loss improved from 0.00840 to 0.00607, saving model to gdrive/My Drive/model_train_single.h5\n",
      "\n",
      "Epoch 00004: val_loss improved from 0.00607 to 0.00500, saving model to gdrive/My Drive/model_train_single.h5\n",
      "\n",
      "Epoch 00005: val_loss improved from 0.00500 to 0.00415, saving model to gdrive/My Drive/model_train_single.h5\n",
      "\n",
      "Epoch 00006: val_loss improved from 0.00415 to 0.00374, saving model to gdrive/My Drive/model_train_single.h5\n",
      "\n",
      "Epoch 00007: val_loss did not improve from 0.00374\n",
      "\n",
      "Epoch 00008: val_loss improved from 0.00374 to 0.00331, saving model to gdrive/My Drive/model_train_single.h5\n",
      "\n",
      "Epoch 00009: val_loss improved from 0.00331 to 0.00310, saving model to gdrive/My Drive/model_train_single.h5\n",
      "\n",
      "Epoch 00010: val_loss did not improve from 0.00310\n",
      "\n",
      "Epoch 00011: val_loss improved from 0.00310 to 0.00274, saving model to gdrive/My Drive/model_train_single.h5\n",
      "\n",
      "Epoch 00012: val_loss improved from 0.00274 to 0.00244, saving model to gdrive/My Drive/model_train_single.h5\n",
      "\n",
      "Epoch 00013: val_loss improved from 0.00244 to 0.00241, saving model to gdrive/My Drive/model_train_single.h5\n",
      "\n",
      "Epoch 00014: val_loss improved from 0.00241 to 0.00222, saving model to gdrive/My Drive/model_train_single.h5\n",
      "\n",
      "Epoch 00015: val_loss did not improve from 0.00222\n",
      "\n",
      "Epoch 00016: val_loss did not improve from 0.00222\n",
      "\n",
      "Epoch 00017: val_loss improved from 0.00222 to 0.00198, saving model to gdrive/My Drive/model_train_single.h5\n",
      "\n",
      "Epoch 00018: val_loss did not improve from 0.00198\n",
      "\n",
      "Epoch 00019: val_loss did not improve from 0.00198\n",
      "\n",
      "Epoch 00020: val_loss improved from 0.00198 to 0.00192, saving model to gdrive/My Drive/model_train_single.h5\n",
      "\n",
      "Epoch 00021: val_loss improved from 0.00192 to 0.00177, saving model to gdrive/My Drive/model_train_single.h5\n",
      "\n",
      "Epoch 00022: val_loss improved from 0.00177 to 0.00170, saving model to gdrive/My Drive/model_train_single.h5\n",
      "\n",
      "Epoch 00023: val_loss did not improve from 0.00170\n",
      "\n",
      "Epoch 00024: val_loss improved from 0.00170 to 0.00167, saving model to gdrive/My Drive/model_train_single.h5\n",
      "\n",
      "Epoch 00025: val_loss improved from 0.00167 to 0.00164, saving model to gdrive/My Drive/model_train_single.h5\n",
      "\n",
      "Epoch 00026: val_loss did not improve from 0.00164\n",
      "\n",
      "Epoch 00027: val_loss did not improve from 0.00164\n",
      "\n",
      "Epoch 00028: val_loss did not improve from 0.00164\n",
      "\n",
      "Epoch 00029: val_loss improved from 0.00164 to 0.00147, saving model to gdrive/My Drive/model_train_single.h5\n",
      "\n",
      "Epoch 00030: val_loss did not improve from 0.00147\n",
      "\n",
      "Epoch 00031: val_loss did not improve from 0.00147\n",
      "\n",
      "Epoch 00032: val_loss did not improve from 0.00147\n",
      "\n",
      "Epoch 00033: val_loss did not improve from 0.00147\n",
      "\n",
      "Epoch 00034: val_loss did not improve from 0.00147\n",
      "\n",
      "Epoch 00035: val_loss improved from 0.00147 to 0.00146, saving model to gdrive/My Drive/model_train_single.h5\n",
      "\n",
      "Epoch 00036: val_loss improved from 0.00146 to 0.00145, saving model to gdrive/My Drive/model_train_single.h5\n",
      "\n",
      "Epoch 00037: val_loss did not improve from 0.00145\n",
      "\n",
      "Epoch 00038: val_loss did not improve from 0.00145\n",
      "\n",
      "Epoch 00039: val_loss did not improve from 0.00145\n",
      "\n",
      "Epoch 00040: val_loss did not improve from 0.00145\n",
      "\n",
      "Epoch 00041: val_loss did not improve from 0.00145\n",
      "\n",
      "Epoch 00042: val_loss improved from 0.00145 to 0.00140, saving model to gdrive/My Drive/model_train_single.h5\n",
      "\n",
      "Epoch 00043: val_loss did not improve from 0.00140\n",
      "\n",
      "Epoch 00044: val_loss did not improve from 0.00140\n",
      "\n",
      "Epoch 00045: val_loss did not improve from 0.00140\n",
      "\n",
      "Epoch 00046: val_loss improved from 0.00140 to 0.00135, saving model to gdrive/My Drive/model_train_single.h5\n",
      "\n",
      "Epoch 00047: val_loss improved from 0.00135 to 0.00133, saving model to gdrive/My Drive/model_train_single.h5\n",
      "\n",
      "Epoch 00048: val_loss did not improve from 0.00133\n",
      "\n",
      "Epoch 00049: val_loss did not improve from 0.00133\n",
      "\n",
      "Epoch 00050: val_loss did not improve from 0.00133\n",
      "\n",
      "Epoch 00051: val_loss did not improve from 0.00133\n",
      "\n",
      "Epoch 00052: val_loss did not improve from 0.00133\n",
      "\n",
      "Epoch 00053: val_loss did not improve from 0.00133\n",
      "\n",
      "Epoch 00054: val_loss did not improve from 0.00133\n",
      "\n",
      "Epoch 00055: val_loss did not improve from 0.00133\n",
      "\n",
      "Epoch 00056: val_loss did not improve from 0.00133\n",
      "\n",
      "Epoch 00057: val_loss did not improve from 0.00133\n",
      "\n",
      "Epoch 00058: val_loss did not improve from 0.00133\n",
      "\n",
      "Epoch 00059: val_loss did not improve from 0.00133\n",
      "\n",
      "Epoch 00060: val_loss improved from 0.00133 to 0.00132, saving model to gdrive/My Drive/model_train_single.h5\n",
      "\n",
      "Epoch 00061: val_loss improved from 0.00132 to 0.00129, saving model to gdrive/My Drive/model_train_single.h5\n",
      "\n",
      "Epoch 00062: val_loss did not improve from 0.00129\n",
      "\n",
      "Epoch 00063: val_loss improved from 0.00129 to 0.00127, saving model to gdrive/My Drive/model_train_single.h5\n",
      "\n",
      "Epoch 00064: val_loss did not improve from 0.00127\n",
      "\n",
      "Epoch 00065: val_loss did not improve from 0.00127\n",
      "\n",
      "Epoch 00066: val_loss did not improve from 0.00127\n",
      "\n",
      "Epoch 00067: val_loss did not improve from 0.00127\n",
      "\n",
      "Epoch 00068: val_loss did not improve from 0.00127\n",
      "\n",
      "Epoch 00069: val_loss improved from 0.00127 to 0.00124, saving model to gdrive/My Drive/model_train_single.h5\n",
      "\n",
      "Epoch 00070: val_loss did not improve from 0.00124\n",
      "\n",
      "Epoch 00071: val_loss did not improve from 0.00124\n",
      "\n",
      "Epoch 00072: val_loss did not improve from 0.00124\n",
      "\n",
      "Epoch 00073: val_loss did not improve from 0.00124\n",
      "\n",
      "Epoch 00074: val_loss did not improve from 0.00124\n",
      "\n",
      "Epoch 00075: val_loss improved from 0.00124 to 0.00124, saving model to gdrive/My Drive/model_train_single.h5\n",
      "\n",
      "Epoch 00076: val_loss did not improve from 0.00124\n",
      "\n",
      "Epoch 00077: val_loss did not improve from 0.00124\n",
      "\n",
      "Epoch 00078: val_loss did not improve from 0.00124\n",
      "\n",
      "Epoch 00079: val_loss did not improve from 0.00124\n",
      "\n",
      "Epoch 00080: val_loss did not improve from 0.00124\n",
      "\n",
      "Epoch 00081: val_loss did not improve from 0.00124\n",
      "\n",
      "Epoch 00082: val_loss did not improve from 0.00124\n",
      "\n",
      "Epoch 00083: val_loss did not improve from 0.00124\n",
      "\n",
      "Epoch 00084: val_loss did not improve from 0.00124\n",
      "\n",
      "Epoch 00085: val_loss did not improve from 0.00124\n",
      "\n",
      "Epoch 00086: val_loss did not improve from 0.00124\n",
      "\n",
      "Epoch 00087: val_loss did not improve from 0.00124\n",
      "\n",
      "Epoch 00088: val_loss did not improve from 0.00124\n",
      "\n",
      "Epoch 00089: val_loss did not improve from 0.00124\n",
      "\n",
      "Epoch 00090: val_loss did not improve from 0.00124\n",
      "\n",
      "Epoch 00091: val_loss did not improve from 0.00124\n",
      "\n",
      "Epoch 00092: val_loss did not improve from 0.00124\n",
      "\n",
      "Epoch 00093: val_loss did not improve from 0.00124\n",
      "\n",
      "Epoch 00094: val_loss did not improve from 0.00124\n",
      "\n",
      "Epoch 00095: val_loss did not improve from 0.00124\n",
      "\n",
      "Epoch 00096: val_loss did not improve from 0.00124\n",
      "\n",
      "Epoch 00097: val_loss did not improve from 0.00124\n",
      "\n",
      "Epoch 00098: val_loss did not improve from 0.00124\n",
      "\n",
      "Epoch 00099: val_loss did not improve from 0.00124\n",
      "\n",
      "Epoch 00100: val_loss did not improve from 0.00124\n"
     ]
    },
    {
     "data": {
      "text/plain": [
       "<keras.callbacks.History at 0x7fd675e7ec50>"
      ]
     },
     "execution_count": 6,
     "metadata": {
      "tags": []
     },
     "output_type": "execute_result"
    }
   ],
   "source": [
    "df1=df[:,:,:,2]\n",
    "df1=np.expand_dims(df1,axis=4)\n",
    "df[93:5092,:,:,0]=df[93:5092,:,:,2]\n",
    "df[93:5092,:,:,1]=df[93:5092,:,:,2]\n",
    "#models.compile('Adam', loss=bce_jaccard_loss, metrics=[iou_score])\n",
    "checkpoint = ModelCheckpoint('gdrive/My Drive/model_train_single.h5', verbose=1, monitor='val_loss',save_best_only=True, mode='auto')  \n",
    "models.compile(optimizer='adam', loss='mean_squared_error', metrics=['accuracy'])\n",
    "\n",
    "models.fit(df[93:5092,:,:,:], y[93:5092,:,:,:], epochs=100, validation_split=0.4, callbacks=[checkpoint], verbose=False)"
   ]
  },
  {
   "cell_type": "code",
   "execution_count": 6,
   "metadata": {
    "colab": {
     "base_uri": "https://localhost:8080/",
     "height": 34
    },
    "colab_type": "code",
    "executionInfo": {
     "elapsed": 2344,
     "status": "ok",
     "timestamp": 1559566505896,
     "user": {
      "displayName": "mokhtar mohammadi",
      "photoUrl": "https://lh4.googleusercontent.com/-WipqOvCRfWQ/AAAAAAAAAAI/AAAAAAAAACw/KPzLoMdb6qk/s64/photo.jpg",
      "userId": "15719550230998599035"
     },
     "user_tz": -270
    },
    "id": "LBuq2gC7rNMe",
    "outputId": "362cfcc4-6871-446e-ab1d-4cc45236cb6c"
   },
   "outputs": [
    {
     "name": "stdout",
     "output_type": "stream",
     "text": [
      "(5, 128, 128)\n"
     ]
    }
   ],
   "source": [
    "import scipy.io as spio\n",
    "#mat = spio.loadmat('gdrive/My Drive/adtfd_test_128_noisy.mat', squeeze_me=True)\n",
    "mat = spio.loadmat('adtfd_test_128_noisy.mat', squeeze_me=True)\n",
    "\n",
    "df_test=mat['yy']\n",
    "print(df_test[:,:,:,1].shape)\n",
    "\n"
   ]
  },
  {
   "cell_type": "code",
   "execution_count": 9,
   "metadata": {
    "colab": {},
    "colab_type": "code",
    "id": "gVlCGURKrNMa"
   },
   "outputs": [],
   "source": [
    "from keras.models import load_model\n",
    "# models.save('gdrive/My Drive/model_train1.h5')\n",
    "#del models\n",
    "#models=load_model('gdrive/My Drive/model_train_single.h5')\n",
    "models=load_model('model_train_single.h5')\n",
    "df2=df_test[:,:,:,:]\n",
    "#df2=np.expand_dims(df2,axis=4)\n",
    "yy=np.zeros((5,128,128))\n",
    "yy=models.predict(df2)"
   ]
  },
  {
   "cell_type": "code",
   "execution_count": 11,
   "metadata": {
    "colab": {
     "base_uri": "https://localhost:8080/",
     "height": 219
    },
    "colab_type": "code",
    "executionInfo": {
     "elapsed": 6921,
     "status": "ok",
     "timestamp": 1559566594462,
     "user": {
      "displayName": "mokhtar mohammadi",
      "photoUrl": "https://lh4.googleusercontent.com/-WipqOvCRfWQ/AAAAAAAAAAI/AAAAAAAAACw/KPzLoMdb6qk/s64/photo.jpg",
      "userId": "15719550230998599035"
     },
     "user_tz": -270
    },
    "id": "0mN2MAYdrNMf",
    "outputId": "63f28155-5974-40bc-f490-880109a198ec"
   },
   "outputs": [
    {
     "data": {
      "image/png": "[encoded data removed]",
      "text/plain": [
       "<Figure size 432x288 with 1 Axes>"
      ]
     },
     "metadata": {
      "needs_background": "light"
     },
     "output_type": "display_data"
    }
   ],
   "source": [
    "yy=yy.clip([0, abs(yy.max())])\n",
    "#plt.imshow(df[33,:,:,0])\n",
    "plt.imshow((yy[2,:,:,0]),cmap='gray_r',origin='lower', extent=[0, 128, 0, 64])\n",
    "#plt.savefig('gdrive/My Drive/DeepBased2.png',dpi=800,bbox_inches='tight')\n",
    "plt.savefig('DeepBased2.png',dpi=800,bbox_inches='tight')\n"
   ]
  },
  {
   "cell_type": "code",
   "execution_count": 12,
   "metadata": {
    "colab": {
     "base_uri": "https://localhost:8080/",
     "height": 219
    },
    "colab_type": "code",
    "executionInfo": {
     "elapsed": 4925,
     "status": "ok",
     "timestamp": 1559435246965,
     "user": {
      "displayName": "mokhtar mohammadi",
      "photoUrl": "https://lh4.googleusercontent.com/-WipqOvCRfWQ/AAAAAAAAAAI/AAAAAAAAACw/KPzLoMdb6qk/s64/photo.jpg",
      "userId": "15719550230998599035"
     },
     "user_tz": -270
    },
    "id": "4hfk-JOfrNMh",
    "outputId": "f04a931c-593f-4808-ad4f-09c44c925bc1",
    "scrolled": true
   },
   "outputs": [
    {
     "data": {
      "image/png": "[encoded data removed]",
      "text/plain": [
       "<Figure size 432x288 with 1 Axes>"
      ]
     },
     "metadata": {
      "needs_background": "light"
     },
     "output_type": "display_data"
    }
   ],
   "source": [
    "#ax = plt.subplot(3, 1, 1)\n",
    "plt.imshow((df_test[2,:,:,2]),cmap='gray_r',origin='lower', extent=[0, 128, 0, 64])\n",
    "\n",
    "\n",
    "# plt.imshow(x_test[4,:,:,2],origin='lower', extent=[0, 128, 0, 64])\n",
    "#ax = plt.subplot(3, 1, 2)\n",
    "plt.show\n",
    "plt.savefig('ADTFDBased2.png',dpi=600,bbox_inches='tight')\n",
    "\n",
    "      \n",
    "\n"
   ]
  },
  {
   "cell_type": "code",
   "execution_count": 13,
   "metadata": {
    "colab": {},
    "colab_type": "code",
    "id": "N5mwR435rNMl"
   },
   "outputs": [],
   "source": [
    "spio.savemat('result_singleNoisy.mat',{'yy':yy})"
   ]
  },
  {
   "cell_type": "code",
   "execution_count": 0,
   "metadata": {
    "colab": {},
    "colab_type": "code",
    "id": "5fPLTrkHrNMm"
   },
   "outputs": [],
   "source": []
  }
 ],
 "metadata": {
  "accelerator": "GPU",
  "colab": {
   "collapsed_sections": [],
   "name": "singlview.ipynb",
   "provenance": [],
   "version": "0.3.2"
  },
  "kernelspec": {
   "display_name": "Python 3",
   "language": "python",
   "name": "python3"
  },
  "language_info": {
   "codemirror_mode": {
    "name": "ipython",
    "version": 3
   },
   "file_extension": ".py",
   "mimetype": "text/x-python",
   "name": "python",
   "nbconvert_exporter": "python",
   "pygments_lexer": "ipython3",
   "version": "3.6.8"
  }
 },
 "nbformat": 4,
 "nbformat_minor": 1
}
