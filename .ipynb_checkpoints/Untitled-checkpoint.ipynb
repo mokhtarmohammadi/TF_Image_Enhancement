{
 "cells": [
  {
   "cell_type": "code",
   "execution_count": null,
   "metadata": {},
   "outputs": [],
   "source": [
    "from __future__ import absolute_import, division, print_function, unicode_literals\n",
    "\n",
    "# !pip install -q tensorflow==2.0.0-alpha0\n",
    "# import tensorflow as tf\n",
    "!pip install segmentation-models\n",
    "\n",
    "import numpy as np\n",
    "import matplotlib.pyplot as plt\n",
    "import os\n",
    "from PIL import Image\n",
    "import keras\n",
    "from keras.models import Model\n",
    "from keras.layers import Conv2D, MaxPooling2D, Input, Conv2DTranspose, Concatenate, BatchNormalization, UpSampling2D\n",
    "from keras.layers import  Dropout, Activation\n",
    "from keras.optimizers import Adam, SGD\n",
    "from keras.layers.advanced_activations import LeakyReLU\n",
    "from keras.callbacks import ModelCheckpoint, ReduceLROnPlateau, EarlyStopping\n",
    "from keras import backend as K\n",
    "from keras.utils import plot_model\n",
    "import tensorflow as tf\n",
    "import glob\n",
    "import random\n",
    "from random import shuffle\n",
    "import scipy.io as spio\n",
    "from segmentation_models import Unet\n",
    "from segmentation_models.backbones import get_preprocessing\n",
    "from segmentation_models.losses import bce_jaccard_loss\n",
    "from segmentation_models.metrics import iou_score\n",
    "from keras.models import load_model\n",
    "import h5py\n",
    "BACKBONE = 'resnet34'\n"
   ]
  },
  {
   "cell_type": "code",
   "execution_count": null,
   "metadata": {},
   "outputs": [],
   "source": [
    "models=load_model('model_train.h5')"
   ]
  },
  {
   "cell_type": "code",
   "execution_count": null,
   "metadata": {},
   "outputs": [],
   "source": [
    "mat = spio.loadmat('adtfd_real_128.mat', squeeze_me=True)\n",
    "\n",
    "df_test=mat['yy']\n",
    "print(df_test[:,:,:,1].shape)\n"
   ]
  },
  {
   "cell_type": "code",
   "execution_count": null,
   "metadata": {},
   "outputs": [],
   "source": [
    "df2=df_test[:,:,:,:]\n",
    "#df2=np.expand_dims(df2,axis=4)\n",
    "yy=np.zeros((2,128,128))\n",
    "yy=models.predict(df2)"
   ]
  },
  {
   "cell_type": "code",
   "execution_count": null,
   "metadata": {},
   "outputs": [],
   "source": [
    "from mpl_toolkits.axes_grid1 import make_axes_locatable\n",
    "yy=yy.clip([0, abs(yy.max())])\n",
    "#plt.imshow(df[33,:,:,0])\n",
    "fig2=plt.figure()\n",
    "plt.rc('xtick', labelsize=20) \n",
    "plt.rc('ytick', labelsize=20) \n",
    "plt.title(\"(a)\",fontsize=24)\n",
    "plt.xlabel('Samples',fontsize=20)\n",
    "plt.ylabel('Frequency / Hz',fontsize=20)\n",
    "ax=plt.gca()\n",
    "im=ax.imshow((yy[0,:,:,0]),origin='lower', extent=[0, 128, 0, 64])\n",
    "divider = make_axes_locatable(ax)\n",
    "cax = divider.append_axes(\"right\", size=\"5%\", pad=0.05)\n",
    "plt.colorbar(im, cax=cax)\n",
    "plt.savefig('Multipleview.png',dpi=800,bbox_inches='tight')"
   ]
  },
  {
   "cell_type": "code",
   "execution_count": null,
   "metadata": {},
   "outputs": [],
   "source": [
    "spio.savemat('resultRealMultiple.mat',{'yy':yy})"
   ]
  },
  {
   "cell_type": "code",
   "execution_count": null,
   "metadata": {},
   "outputs": [],
   "source": [
    "models=load_model('model_train_single.h5')"
   ]
  },
  {
   "cell_type": "code",
   "execution_count": null,
   "metadata": {},
   "outputs": [],
   "source": [
    "mat = spio.loadmat('adtfd_real_128.mat', squeeze_me=True)\n",
    "\n",
    "df_test=mat['zz']\n",
    "print(df_test[:,:,:,1].shape)\n"
   ]
  },
  {
   "cell_type": "code",
   "execution_count": null,
   "metadata": {},
   "outputs": [],
   "source": [
    "df2=df_test[:,:,:,:]\n",
    "#df2=np.expand_dims(df2,axis=4)\n",
    "yy=np.zeros((2,128,128))\n",
    "yy=models.predict(df2)"
   ]
  },
  {
   "cell_type": "code",
   "execution_count": null,
   "metadata": {},
   "outputs": [],
   "source": [
    "from mpl_toolkits.axes_grid1 import make_axes_locatable\n",
    "yy=yy.clip([0, abs(yy.max())])\n",
    "#plt.imshow(df[33,:,:,0])\n",
    "fig2=plt.figure()\n",
    "plt.rc('xtick', labelsize=20) \n",
    "plt.rc('ytick', labelsize=20) \n",
    "plt.title(\"(a)\",fontsize=24)\n",
    "plt.xlabel('Samples',fontsize=20)\n",
    "plt.ylabel('Frequency / Hz',fontsize=20)\n",
    "ax=plt.gca()\n",
    "im=ax.imshow((yy[0,:,:,0]),origin='lower', extent=[0, 128, 0, 64])\n",
    "divider = make_axes_locatable(ax)\n",
    "cax = divider.append_axes(\"right\", size=\"5%\", pad=0.05)\n",
    "plt.colorbar(im, cax=cax)\n",
    "plt.savefig('DeepBased2.png',dpi=800,bbox_inches='tight')"
   ]
  },
  {
   "cell_type": "code",
   "execution_count": null,
   "metadata": {},
   "outputs": [],
   "source": [
    "spio.savemat('resultRealSingle.mat',{'yy':yy})"
   ]
  }
 ],
 "metadata": {
  "kernelspec": {
   "display_name": "Python 3",
   "language": "python",
   "name": "python3"
  },
  "language_info": {
   "codemirror_mode": {
    "name": "ipython",
    "version": 3
   },
   "file_extension": ".py",
   "mimetype": "text/x-python",
   "name": "python",
   "nbconvert_exporter": "python",
   "pygments_lexer": "ipython3",
   "version": "3.6.8"
  }
 },
 "nbformat": 4,
 "nbformat_minor": 2
}
